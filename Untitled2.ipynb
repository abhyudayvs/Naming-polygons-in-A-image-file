{
 "cells": [
  {
   "cell_type": "code",
   "execution_count": 2,
   "id": "e90c2fd7",
   "metadata": {},
   "outputs": [
    {
     "name": "stdout",
     "output_type": "stream",
     "text": [
      "Polygon detection and centroid calculation complete. Output saved to 'polygon_centroids.txt'.\n"
     ]
    }
   ],
   "source": [
    "import cv2\n",
    "import numpy as np\n",
    "\n",
    "\n",
    "image = cv2.imread('/home/kali/Downloads/TASK1.jpeg')  \n",
    "gray = cv2.cvtColor(image, cv2.COLOR_BGR2GRAY)\n",
    "\n",
    "\n",
    "_, thresh = cv2.threshold(gray, 127, 255, cv2.THRESH_BINARY)\n",
    "\n",
    "\n",
    "contours, _ = cv2.findContours(thresh, cv2.RETR_EXTERNAL, cv2.CHAIN_APPROX_SIMPLE)\n",
    "\n",
    "\n",
    "def detect_polygon_name(approx):\n",
    "    sides = len(approx)\n",
    "    if sides == 3:\n",
    "        return \"Triangle\"\n",
    "    elif sides == 4:\n",
    "        \n",
    "        x, y, w, h = cv2.boundingRect(approx)\n",
    "        aspect_ratio = w / float(h)\n",
    "        if 0.95 <= aspect_ratio <= 1.05:\n",
    "            return \"Square\"\n",
    "        else:\n",
    "            return \"Rectangle\"\n",
    "    elif sides == 5:\n",
    "        return \"Pentagon\"\n",
    "    elif sides == 6:\n",
    "        return \"Hexagon\"\n",
    "    else:\n",
    "        return \"Polygon with more than 6 sides\"\n",
    "\n",
    "\n",
    "with open('polygon_centroids.txt', 'w') as file:\n",
    "    for contour in contours:\n",
    "        \n",
    "        epsilon = 0.04 * cv2.arcLength(contour, True)\n",
    "        approx = cv2.approxPolyDP(contour, epsilon, True)\n",
    "\n",
    "        \n",
    "        shape_name = detect_polygon_name(approx)\n",
    "\n",
    "        \n",
    "        M = cv2.moments(approx)\n",
    "        if M[\"m00\"] != 0:\n",
    "            cx = int(M[\"m10\"] / M[\"m00\"])\n",
    "            cy = int(M[\"m01\"] / M[\"m00\"])\n",
    "        else:\n",
    "            cx, cy = 0, 0\n",
    "\n",
    "        \n",
    "        cv2.drawContours(image, [approx], -1, (0, 255, 0), 2)\n",
    "        cv2.circle(image, (cx, cy), 7, (0, 0, 255), -1)\n",
    "\n",
    "        \n",
    "        file.write(f\"{shape_name}: Centroid at ({cx}, {cy})\\n\")\n",
    "\n",
    "\n",
    "cv2.imwrite('output_image.png', image)\n",
    "\n",
    "print(\"Polygon detection and centroid calculation complete. Output saved to 'polygon_centroids.txt'.\")\n"
   ]
  }
 ],
 "metadata": {
  "kernelspec": {
   "display_name": "Python 3 (ipykernel)",
   "language": "python",
   "name": "python3"
  },
  "language_info": {
   "codemirror_mode": {
    "name": "ipython",
    "version": 3
   },
   "file_extension": ".py",
   "mimetype": "text/x-python",
   "name": "python",
   "nbconvert_exporter": "python",
   "pygments_lexer": "ipython3",
   "version": "3.12.8"
  }
 },
 "nbformat": 4,
 "nbformat_minor": 5
}
